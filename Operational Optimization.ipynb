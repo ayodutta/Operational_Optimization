{
 "cells": [
  {
   "cell_type": "markdown",
   "metadata": {
    "id": "e2GA5ovSd7i3"
   },
   "source": [
    "### Installing and Importing Required Libraries"
   ]
  },
  {
   "cell_type": "code",
   "execution_count": 2,
   "metadata": {
    "id": "vXSpF5K3d4yY"
   },
   "outputs": [],
   "source": [
    "#Importing Required Libraries\n",
    "import cvxpy as cp\n",
    "import pandas as pd\n",
    "import numpy as np"
   ]
  },
  {
   "cell_type": "markdown",
   "metadata": {
    "id": "97AgACkOZVIU"
   },
   "source": [
    "1.\n",
    "\n",
    "For plant A:\n",
    "\n",
    "**Decision variables:**\n",
    "\n",
    "\\$X_1\\$ = Number of standard units\n",
    "\n",
    "\\$X_2\\$ = Number of deluxe units\n",
    "\n",
    "The objective function is:\n",
    "\\begin{equation}\n",
    "\\text{maximize}_{X1,X2}\\quad 10 \\times X1 + 15 \\times X2\n",
    "\\end{equation}\n",
    "subject to constraints\n",
    "\\begin{align}\n",
    "4X1 + 2X2 &\\leq 80&\\\n",
    "2X1 + 5X2 &\\leq 60&\\\n",
    "4X1 + 4X2 &\\leq 75&\\\n",
    "X1, X2 &\\geq 0&\n",
    "X1, X2 , \\in \\mathbb{Z}&\n",
    "\\end{align}\n",
    "\n",
    "For plant B:\n",
    "\n",
    "**Decision variables:**\n",
    "\n",
    "\\$Y_1\\$ = Number of standard units\n",
    "\n",
    "\\$Y_2\\$ = Number of deluxe units\n",
    "\n",
    "The objective function is:\n",
    "\\begin{equation}\n",
    "\\text{maximize}_{Y1,Y2}\\quad 10 \\times Y1 + 15 \\times Y2\n",
    "\\end{equation}\n",
    "subject to constraints\n",
    "\\begin{align}\n",
    "5Y1 + 3Y2 &\\leq 60&\\\n",
    "5Y1 + 6Y2 &\\leq 75&\\\n",
    "4Y1 + 4Y2 &\\leq 45&\\\n",
    "Y1, Y2 &\\geq 0&\n",
    "Y1, Y2 , \\in \\mathbb{Z}&\n",
    "\\end{align}"
   ]
  },
  {
   "cell_type": "markdown",
   "metadata": {
    "id": "MZhbCeb1ZVOJ"
   },
   "source": [
    "### 2. Individual Optimization Models"
   ]
  },
  {
   "cell_type": "code",
   "execution_count": null,
   "metadata": {
    "colab": {
     "base_uri": "https://localhost:8080/"
    },
    "id": "feYtERR8ZTe4",
    "outputId": "7349df87-a8df-47c1-863f-8846e23170ff"
   },
   "outputs": [
    {
     "name": "stdout",
     "output_type": "stream",
     "text": [
      "Plant A optimal solution:\n",
      "Standard units:  10.0\n",
      "Deluxe units:  8.0\n",
      "Maximized Profit:  220.0\n",
      "\n",
      "Plant B optimal solution:\n",
      "Standard units:  0.0\n",
      "Deluxe units:  11.0\n",
      "Maximized Profit:  165.0\n"
     ]
    }
   ],
   "source": [
    "#Creating a function to calculate the optimal solutions and profit levels for each plant\n",
    "def individual_plant():\n",
    "    \n",
    "    #Defining the variables as integers - subject to the constraint of being integers\n",
    "    x1 = cp.Variable(integer=True)\n",
    "    x2 = cp.Variable(integer=True)\n",
    "    y1 = cp.Variable(integer=True)\n",
    "    y2 = cp.Variable(integer=True)\n",
    "\n",
    "    #Defining constraints for Plant A\n",
    "    constraints_a = [\n",
    "        4 * x1 + 2 * x2 <= 80,\n",
    "        2 * x1 + 5 * x2 <= 60,\n",
    "        4 * (x1 + x2) <= 75,\n",
    "        x1 >= 0,\n",
    "        x2 >= 0\n",
    "    ]\n",
    "\n",
    "    #Defining constraints for Plant B\n",
    "    constraints_b = [\n",
    "        5 * y1 + 3 * y2 <= 60,\n",
    "        5 * y1 + 6 * y2 <= 75,\n",
    "        4 * (y1 + y2) <= 45,\n",
    "        y1 >= 0,\n",
    "        y2 >= 0\n",
    "    ]\n",
    "\n",
    "    #Defining the objective function\n",
    "    obj_a = cp.Maximize(10 * x1 + 15 * x2)\n",
    "    obj_b = cp.Maximize(10 * y1 + 15 * y2)\n",
    "\n",
    "    #Solving the problem\n",
    "    prob_a = cp.Problem(obj_a, constraints_a)\n",
    "    prob_b = cp.Problem(obj_b, constraints_b)\n",
    "    prob_a.solve()\n",
    "    prob_b.solve()\n",
    "\n",
    "    #Printing the results\n",
    "    print(\"Plant A optimal solution:\")\n",
    "    print(\"Standard units: \", x1.value)\n",
    "    print(\"Deluxe units: \", x2.value)\n",
    "    print(\"Maximized Profit: \", prob_a.value)\n",
    "\n",
    "    print(\"\\nPlant B optimal solution:\")\n",
    "    print(\"Standard units: \", y1.value)\n",
    "    print(\"Deluxe units: \", y2.value)\n",
    "    print(\"Maximized Profit: \", prob_b.value)\n",
    "\n",
    "#Solving individual plant problems\n",
    "individual_plant()"
   ]
  },
  {
   "cell_type": "markdown",
   "metadata": {
    "id": "I9sjnjlqiq--"
   },
   "source": [
    "We observe that when calculating optimal values for each plant individually, \n",
    "\n",
    "|  | Plant A | Plant B         \n",
    "| :---:|:---: | :---:\n",
    "| Standard Units|10|0\n",
    "| Deluxe Units|8|11\n",
    "| Maximized Profit|220|165\n",
    "\n",
    "Plant A focuses on Standard and Deluxe observes a profit of $220.\n",
    "\n",
    "Plant B focses only on Deluxe Units and observes a profit of $165."
   ]
  },
  {
   "cell_type": "markdown",
   "metadata": {
    "id": "0JCHYHORihuX"
   },
   "source": [
    "### 3. Joint Optimization Model"
   ]
  },
  {
   "cell_type": "code",
   "execution_count": null,
   "metadata": {
    "colab": {
     "base_uri": "https://localhost:8080/"
    },
    "id": "Iag5YijoZ_6S",
    "outputId": "0f5559ff-90bb-4ced-b1ed-a8ebc9948613"
   },
   "outputs": [
    {
     "name": "stdout",
     "output_type": "stream",
     "text": [
      "Joint optimal solution:\n",
      "Plant A - Standard units:  10.0\n",
      "Plant A - Deluxe units:  8.0\n",
      "Plant B - Standard units:  0.0\n",
      "Plant B - Deluxe units:  12.0\n",
      "Maximized Profit:  400.0\n"
     ]
    }
   ],
   "source": [
    "#Creating a function to calculate the optimal solution and profit level for both plants combined\n",
    "def joint_plant():\n",
    "\n",
    "    #Defining the variables as integers - subject to the constraint of being integers\n",
    "    x1 = cp.Variable(integer=True)\n",
    "    x2 = cp.Variable(integer=True)\n",
    "    y1 = cp.Variable(integer=True)\n",
    "    y2 = cp.Variable(integer=True)\n",
    "\n",
    "    #Defining the combined list of constraints\n",
    "    constraints = [\n",
    "        4 * x1 + 2 * x2 <= 80,\n",
    "        2 * x1 + 5 * x2 <= 60,\n",
    "        5 * y1 + 3 * y2 <= 60,\n",
    "        5 * y1 + 6 * y2 <= 75,\n",
    "        4 * (x1 + x2 + y1 + y2) <= 120,\n",
    "        x1 >= 0,\n",
    "        x2 >= 0,\n",
    "        y1 >= 0,\n",
    "        y2 >= 0\n",
    "    ]\n",
    "\n",
    "    #Defining the objective function\n",
    "    obj = cp.Maximize(10 * x1 + 15 * x2 + 10 * y1 + 15 * y2)\n",
    "\n",
    "    #Solving the problem\n",
    "    prob = cp.Problem(obj, constraints)\n",
    "    prob.solve()\n",
    "\n",
    "    #Printing the results\n",
    "    print(\"Joint optimal solution:\")\n",
    "    print(\"Plant A - Standard units: \", x1.value)\n",
    "    print(\"Plant A - Deluxe units: \", x2.value)\n",
    "    print(\"Plant B - Standard units: \", y1.value)\n",
    "    print(\"Plant B - Deluxe units: \", y2.value)\n",
    "    print(\"Maximized Profit: \", prob.value)\n",
    "\n",
    "#Solving the joint plant problem\n",
    "joint_plant()"
   ]
  },
  {
   "cell_type": "markdown",
   "metadata": {
    "id": "sY7ZI8GajsIT"
   },
   "source": [
    "We observe that when calculating optimal values for each plant individually, \n",
    "\n",
    "|  | Plant A | Plant B         \n",
    "| :---:|:---: | :---:\n",
    "| Standard Units|10|0\n",
    "| Deluxe Units|8|12\n",
    "\n",
    "Plant A focuses on Standard and Deluxe Units.\n",
    "\n",
    "Plant B focses only on Deluxe Units.\n",
    "\n",
    "A maximum profit of $400 can be attained."
   ]
  },
  {
   "cell_type": "markdown",
   "metadata": {
    "id": "4uvfCcsgke_Z"
   },
   "source": [
    "### 4.\n",
    "The results show that optimizing each plant individually does not necessarily lead to the overall optimal solution when considering the system as a whole. In the individual optimization case, plant B produces 11 deluxe units leading to a profit of \\$165. However, in the joint optimization case, while plant A's production remains the same, plant B shifts its production to produce an additional deluxe unit, resulting in an overall profit of \\$400. This is an increase of \\$15 compared to the sum of the profits from the individual optimizations (\\$220 + \\$165 = \\$385). This highlights the importance of considering the entire system when making optimization decisions, as local optimizations can lead to suboptimal results when considering the system as a whole."
   ]
  },
  {
   "cell_type": "markdown",
   "metadata": {
    "id": "ZXCZ_U3apOmE"
   },
   "source": [
    "### 5.\n",
    "The optimization analysis indicates that while Plant A's production levels remain optimal, Plant B could enhance profitability by increasing its production of deluxe units. Therefore, my foremost recommendation would be to review and revise the production schedules and resource allocation between plants A and B, focusing on maximizing the production of deluxe units at Plant B. \n",
    "\n",
    "Notably, the optimization model also suggests that the older machinery at Plant B, resulting in longer processing times, could be limiting its production efficiency. Upgrading or replacing this machinery might yield significant improvements in the plant's capacity and efficiency, potentially increasing profitability. This, however, should be evaluated against the cost and feasibility of such an investment.\n",
    "\n",
    "Moreover, it might be worthwhile to explore options for increasing the raw material supply or finding alternatives. The raw material constraint significantly impacts the production potential of both plants. \n",
    "\n",
    "Finally, this analysis underscores the crucial importance of a system-wide view for decision-making. Optimizing operations at the individual plant level does not necessarily yield the best overall results. As such, future operational strategies should be based on a comprehensive, holistic assessment of the entire production system, incorporating all relevant factors, including but not limited to production capacities, raw material availability, demand projections, and operational costs."
   ]
  }
 ],
 "metadata": {
  "colab": {
   "collapsed_sections": [
    "e2GA5ovSd7i3",
    "8tPH3RtCZNgS"
   ],
   "provenance": []
  },
  "kernelspec": {
   "display_name": "Python 3 (ipykernel)",
   "language": "python",
   "name": "python3"
  },
  "language_info": {
   "codemirror_mode": {
    "name": "ipython",
    "version": 3
   },
   "file_extension": ".py",
   "mimetype": "text/x-python",
   "name": "python",
   "nbconvert_exporter": "python",
   "pygments_lexer": "ipython3",
   "version": "3.9.12"
  }
 },
 "nbformat": 4,
 "nbformat_minor": 1
}
